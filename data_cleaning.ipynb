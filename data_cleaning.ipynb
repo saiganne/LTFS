{
 "cells": [
  {
   "cell_type": "code",
   "execution_count": 463,
   "metadata": {},
   "outputs": [],
   "source": [
    "import pandas as pd\n",
    "import numpy as np\n",
    "from datetime import date\n",
    "import datetime\n",
    "from sklearn.model_selection import train_test_split"
   ]
  },
  {
   "cell_type": "code",
   "execution_count": 410,
   "metadata": {},
   "outputs": [],
   "source": [
    "train=pd.read_csv(r\"C:\\Users\\Saiganne\\Documents\\analytics_vidhya\\train.csv\",parse_dates=True)"
   ]
  },
  {
   "cell_type": "code",
   "execution_count": 208,
   "metadata": {},
   "outputs": [
    {
     "name": "stdout",
     "output_type": "stream",
     "text": [
      "No Default (Target:0) 78.29 % of the dataset\n",
      "Default (Target:1) 21.71 % of the dataset\n"
     ]
    }
   ],
   "source": [
    "#checking the class distribution\n",
    "print('No Default (Target:0)', round(train['loan_default'].value_counts()[0]/len(train) * 100,2), '% of the dataset')\n",
    "print('Default (Target:1)', round(train['loan_default'].value_counts()[1]/len(train) * 100,2), '% of the dataset')"
   ]
  },
  {
   "cell_type": "code",
   "execution_count": 209,
   "metadata": {},
   "outputs": [],
   "source": [
    "# dropping uniqueID column\n",
    "train.drop(['UniqueID'],axis=1,inplace=True)\n",
    "\n",
    "# dropping supplier_id of the customer \n",
    "train.drop(['supplier_id'],axis=1,inplace=True)\n",
    "\n",
    "# dropping Current_pincode of the customer \n",
    "train.drop(['Current_pincode'],axis=1,inplace=True)\n",
    "\n",
    "#created age column  from Date.of.Birth and dropped Date.of.Birth\n",
    "yr=train['Date.of.Birth'].str.slice(6,8).astype(int)\n",
    "train['age']=np.where(yr==0,(yr+19),((100-yr)+19))\n",
    "train.drop(['Date.of.Birth'],axis=1,inplace=True)\n",
    "\n",
    "# dropping Employee_code_ID of the customer \n",
    "train.drop(['Employee_code_ID'],axis=1,inplace=True)\n",
    "\n",
    "# dropping PERFORM_CNS.SCORE.DESCRIPTION of the customer \n",
    "train.drop(['PERFORM_CNS.SCORE.DESCRIPTION'],axis=1,inplace=True)\n",
    "\n",
    "# AVERAGE.ACCT.AGE is changed to total num of  months \n",
    "train['AVERAGE.ACCT.AGE']=train['AVERAGE.ACCT.AGE'].str.replace('yrs',\"-\")\n",
    "train['AVERAGE.ACCT.AGE']=train['AVERAGE.ACCT.AGE'].str.replace('mon',\"\")\n",
    "k=train['AVERAGE.ACCT.AGE'].str.split(\"-\",expand=True).astype(int) #k[0] is years and k[1] gives months\n",
    "train['AVERAGE.ACCT.AGE']=(k[0]*12)+k[1]\n",
    "\n",
    "#CREDIT.HISTORY.LENGTH is changed to total num of months\n",
    "train['CREDIT.HISTORY.LENGTH']=train['CREDIT.HISTORY.LENGTH'].str.replace('yrs',\"-\")\n",
    "train['CREDIT.HISTORY.LENGTHE']=train['CREDIT.HISTORY.LENGTH'].str.replace('mon',\"\")\n",
    "k=train['CREDIT.HISTORY.LENGTH'].str.split(\"-\",expand=True).astype(int) #k[0] is years and k[1] gives months\n",
    "train['CREDIT.HISTORY.LENGTH']=(k[0]*12)+k[1]\n",
    "\n",
    "#imputing nan for PERFORM_CNS.SCORE whose score is less than 18\n",
    "train['PERFORM_CNS.SCORE']=np.where(train['PERFORM_CNS.SCORE']<=18,np.nan,train['PERFORM_CNS.SCORE'])\n",
    "\n",
    "# replacing na values as not_employed \n",
    "train[\"Employment.Type\"].fillna(\"Not_employed\", inplace = True) \n",
    "\n",
    "#creating dummies for branch_id\n",
    "train=pd.get_dummies(train['branch_id'], prefix='branch')\n",
    "train.drop(['branch_id'],axis=1,inplace=True)\n",
    "\n",
    "\n",
    "#creating dummies for manufacturer_id\n",
    "train=pd.get_dummies(train['manufacturer_id'], prefix='manufac')\n",
    "train.drop(['manufacturer_id'],axis=1,inplace=True)\n",
    "\n",
    "#creating dummies for Employment.Type\n",
    "train=pd.get_dummies(train['Employment.Type'], prefix='E')\n",
    "train.drop(['Employment.Type'],axis=1,inplace=True)\n",
    "\n",
    "#creating dummies for DisbursalDate\n",
    "train['DisbursalDate']=train['DisbursalDate'].str.slice(3,5).astype(int)\n",
    "train=pd.get_dummies(train['DisbursalDate'], prefix='Disbursal')\n",
    "train.drop(['DisbursalDate'],axis=1,inplace=True)\n",
    "\n",
    "#creating dummies for State_ID\n",
    "train=pd.get_dummies(train['State_ID'], prefix='State_ID')\n",
    "train.drop(['State_ID'],axis=1,inplace=True)"
   ]
  }
 ],
 "metadata": {
  "kernelspec": {
   "display_name": "Python 3",
   "language": "python",
   "name": "python3"
  },
  "language_info": {
   "codemirror_mode": {
    "name": "ipython",
    "version": 3
   },
   "file_extension": ".py",
   "mimetype": "text/x-python",
   "name": "python",
   "nbconvert_exporter": "python",
   "pygments_lexer": "ipython3",
   "version": "3.7.1"
  }
 },
 "nbformat": 4,
 "nbformat_minor": 2
}
